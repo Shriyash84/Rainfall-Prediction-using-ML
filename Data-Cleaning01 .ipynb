{
 "cells": [
  {
   "cell_type": "code",
   "execution_count": 1,
   "id": "ac542042-b906-4937-93e3-00f50aa15c66",
   "metadata": {},
   "outputs": [],
   "source": [
    "import numpy as np\n",
    "import pandas as pd\n",
    "import matplotlib.pyplot as plt\n",
    "import seaborn as sns"
   ]
  },
  {
   "cell_type": "code",
   "execution_count": 2,
   "id": "2a51aea4-2551-4706-ae2d-222b1af8e87b",
   "metadata": {},
   "outputs": [],
   "source": [
    "# Read Dataset\n",
    "ds = pd.read_csv(\"Rainfall.csv\")"
   ]
  },
  {
   "cell_type": "code",
   "execution_count": 3,
   "id": "affeaecb-8ffc-4c35-85e2-6917d7bd0f58",
   "metadata": {},
   "outputs": [
    {
     "data": {
      "text/plain": [
       "(366, 12)"
      ]
     },
     "execution_count": 3,
     "metadata": {},
     "output_type": "execute_result"
    }
   ],
   "source": [
    "ds.shape"
   ]
  },
  {
   "cell_type": "code",
   "execution_count": 4,
   "id": "31044961-d867-4524-9fd4-7e83078bed02",
   "metadata": {},
   "outputs": [
    {
     "name": "stdout",
     "output_type": "stream",
     "text": [
      "<class 'pandas.core.frame.DataFrame'>\n",
      "RangeIndex: 366 entries, 0 to 365\n",
      "Data columns (total 12 columns):\n",
      " #   Column                  Non-Null Count  Dtype  \n",
      "---  ------                  --------------  -----  \n",
      " 0   day                     366 non-null    int64  \n",
      " 1   pressure                366 non-null    float64\n",
      " 2   maxtemp                 366 non-null    float64\n",
      " 3   temparature             366 non-null    float64\n",
      " 4   mintemp                 366 non-null    float64\n",
      " 5   dewpoint                366 non-null    float64\n",
      " 6   humidity                366 non-null    int64  \n",
      " 7   cloud                   366 non-null    int64  \n",
      " 8   rainfall                366 non-null    object \n",
      " 9   sunshine                366 non-null    float64\n",
      " 10           winddirection  365 non-null    float64\n",
      " 11  windspeed               365 non-null    float64\n",
      "dtypes: float64(8), int64(3), object(1)\n",
      "memory usage: 34.4+ KB\n"
     ]
    }
   ],
   "source": [
    "ds .info()"
   ]
  },
  {
   "cell_type": "code",
   "execution_count": 5,
   "id": "7ff48edf-1791-4ad9-96ba-050d43805a3b",
   "metadata": {},
   "outputs": [],
   "source": [
    "# remove extra  spaces in all columns\n",
    "ds.columns = ds.columns.str.strip()"
   ]
  },
  {
   "cell_type": "code",
   "execution_count": 6,
   "id": "d651772f-e89f-4737-a2e1-d9e26581f080",
   "metadata": {},
   "outputs": [],
   "source": [
    "ds = ds.drop(columns=[\"day\"])"
   ]
  },
  {
   "cell_type": "code",
   "execution_count": 7,
   "id": "30c88efe-e7a6-4220-8044-4d8001b82b07",
   "metadata": {},
   "outputs": [
    {
     "data": {
      "text/html": [
       "<div>\n",
       "<style scoped>\n",
       "    .dataframe tbody tr th:only-of-type {\n",
       "        vertical-align: middle;\n",
       "    }\n",
       "\n",
       "    .dataframe tbody tr th {\n",
       "        vertical-align: top;\n",
       "    }\n",
       "\n",
       "    .dataframe thead th {\n",
       "        text-align: right;\n",
       "    }\n",
       "</style>\n",
       "<table border=\"1\" class=\"dataframe\">\n",
       "  <thead>\n",
       "    <tr style=\"text-align: right;\">\n",
       "      <th></th>\n",
       "      <th>pressure</th>\n",
       "      <th>maxtemp</th>\n",
       "      <th>temparature</th>\n",
       "      <th>mintemp</th>\n",
       "      <th>dewpoint</th>\n",
       "      <th>humidity</th>\n",
       "      <th>cloud</th>\n",
       "      <th>rainfall</th>\n",
       "      <th>sunshine</th>\n",
       "      <th>winddirection</th>\n",
       "      <th>windspeed</th>\n",
       "    </tr>\n",
       "  </thead>\n",
       "  <tbody>\n",
       "    <tr>\n",
       "      <th>0</th>\n",
       "      <td>1025.9</td>\n",
       "      <td>19.9</td>\n",
       "      <td>18.3</td>\n",
       "      <td>16.8</td>\n",
       "      <td>13.1</td>\n",
       "      <td>72</td>\n",
       "      <td>49</td>\n",
       "      <td>yes</td>\n",
       "      <td>9.3</td>\n",
       "      <td>80.0</td>\n",
       "      <td>26.3</td>\n",
       "    </tr>\n",
       "    <tr>\n",
       "      <th>1</th>\n",
       "      <td>1022.0</td>\n",
       "      <td>21.7</td>\n",
       "      <td>18.9</td>\n",
       "      <td>17.2</td>\n",
       "      <td>15.6</td>\n",
       "      <td>81</td>\n",
       "      <td>83</td>\n",
       "      <td>yes</td>\n",
       "      <td>0.6</td>\n",
       "      <td>50.0</td>\n",
       "      <td>15.3</td>\n",
       "    </tr>\n",
       "    <tr>\n",
       "      <th>2</th>\n",
       "      <td>1019.7</td>\n",
       "      <td>20.3</td>\n",
       "      <td>19.3</td>\n",
       "      <td>18.0</td>\n",
       "      <td>18.4</td>\n",
       "      <td>95</td>\n",
       "      <td>91</td>\n",
       "      <td>yes</td>\n",
       "      <td>0.0</td>\n",
       "      <td>40.0</td>\n",
       "      <td>14.2</td>\n",
       "    </tr>\n",
       "    <tr>\n",
       "      <th>3</th>\n",
       "      <td>1018.9</td>\n",
       "      <td>22.3</td>\n",
       "      <td>20.6</td>\n",
       "      <td>19.1</td>\n",
       "      <td>18.8</td>\n",
       "      <td>90</td>\n",
       "      <td>88</td>\n",
       "      <td>yes</td>\n",
       "      <td>1.0</td>\n",
       "      <td>50.0</td>\n",
       "      <td>16.9</td>\n",
       "    </tr>\n",
       "    <tr>\n",
       "      <th>4</th>\n",
       "      <td>1015.9</td>\n",
       "      <td>21.3</td>\n",
       "      <td>20.7</td>\n",
       "      <td>20.2</td>\n",
       "      <td>19.9</td>\n",
       "      <td>95</td>\n",
       "      <td>81</td>\n",
       "      <td>yes</td>\n",
       "      <td>0.0</td>\n",
       "      <td>40.0</td>\n",
       "      <td>13.7</td>\n",
       "    </tr>\n",
       "  </tbody>\n",
       "</table>\n",
       "</div>"
      ],
      "text/plain": [
       "   pressure  maxtemp  temparature  mintemp  dewpoint  humidity  cloud  \\\n",
       "0    1025.9     19.9         18.3     16.8      13.1        72     49   \n",
       "1    1022.0     21.7         18.9     17.2      15.6        81     83   \n",
       "2    1019.7     20.3         19.3     18.0      18.4        95     91   \n",
       "3    1018.9     22.3         20.6     19.1      18.8        90     88   \n",
       "4    1015.9     21.3         20.7     20.2      19.9        95     81   \n",
       "\n",
       "  rainfall  sunshine  winddirection  windspeed  \n",
       "0      yes       9.3           80.0       26.3  \n",
       "1      yes       0.6           50.0       15.3  \n",
       "2      yes       0.0           40.0       14.2  \n",
       "3      yes       1.0           50.0       16.9  \n",
       "4      yes       0.0           40.0       13.7  "
      ]
     },
     "execution_count": 7,
     "metadata": {},
     "output_type": "execute_result"
    }
   ],
   "source": [
    "ds.head()"
   ]
  },
  {
   "cell_type": "code",
   "execution_count": 8,
   "id": "61dadc73-43ab-4077-a343-186d109edf85",
   "metadata": {},
   "outputs": [
    {
     "name": "stdout",
     "output_type": "stream",
     "text": [
      "pressure         0\n",
      "maxtemp          0\n",
      "temparature      0\n",
      "mintemp          0\n",
      "dewpoint         0\n",
      "humidity         0\n",
      "cloud            0\n",
      "rainfall         0\n",
      "sunshine         0\n",
      "winddirection    1\n",
      "windspeed        1\n",
      "dtype: int64\n"
     ]
    }
   ],
   "source": [
    "# checking the number of missing values\n",
    "print(ds.isnull().sum())"
   ]
  },
  {
   "cell_type": "code",
   "execution_count": 9,
   "id": "6b6eed4a-bc4e-4574-ab4a-5a30ae8eefb9",
   "metadata": {},
   "outputs": [],
   "source": [
    "# handle missing values\n",
    "ds[\"winddirection\"] = ds[\"winddirection\"].fillna(ds[\"winddirection\"].mode()[0])\n",
    "ds[\"windspeed\"] = ds[\"windspeed\"].fillna(ds[\"windspeed\"].median())"
   ]
  },
  {
   "cell_type": "code",
   "execution_count": 10,
   "id": "07ef2a31-870b-4b18-ae6c-a1131ec89ef4",
   "metadata": {},
   "outputs": [
    {
     "data": {
      "text/plain": [
       "array(['yes', 'no'], dtype=object)"
      ]
     },
     "execution_count": 10,
     "metadata": {},
     "output_type": "execute_result"
    }
   ],
   "source": [
    "ds[\"rainfall\"].unique()"
   ]
  },
  {
   "cell_type": "code",
   "execution_count": 11,
   "id": "435b7b96-98a1-40d9-bbd7-23d4605e60ac",
   "metadata": {},
   "outputs": [],
   "source": [
    "# converting the yes & no to 1 and 0 respectively\n",
    "ds[\"rainfall\"] = ds[\"rainfall\"].map({\"yes\": 1, \"no\": 0})"
   ]
  },
  {
   "cell_type": "code",
   "execution_count": 12,
   "id": "bc72ad38-a63e-4e58-831c-66527a9abdfb",
   "metadata": {},
   "outputs": [],
   "source": [
    "#Data Saved\n",
    "ds.to_csv(\"cleaned_data.csv\")"
   ]
  }
 ],
 "metadata": {
  "kernelspec": {
   "display_name": "Python 3 (ipykernel)",
   "language": "python",
   "name": "python3"
  },
  "language_info": {
   "codemirror_mode": {
    "name": "ipython",
    "version": 3
   },
   "file_extension": ".py",
   "mimetype": "text/x-python",
   "name": "python",
   "nbconvert_exporter": "python",
   "pygments_lexer": "ipython3",
   "version": "3.12.7"
  }
 },
 "nbformat": 4,
 "nbformat_minor": 5
}
