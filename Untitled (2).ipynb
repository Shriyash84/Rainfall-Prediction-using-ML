{
 "cells": [
  {
   "cell_type": "code",
   "execution_count": 81,
   "id": "3dd4d18f-a098-4d95-acae-7dc4503475dc",
   "metadata": {},
   "outputs": [
    {
     "name": "stdin",
     "output_type": "stream",
     "text": [
      "Enter value for pressure (1015.0 - 1025.0):  1123\n",
      "Enter value for dewpoint (15.0 - 25.0):  23\n",
      "Enter value for humidity (0 - 100):  45\n",
      "Enter value for cloud (0 - 100):  56\n",
      "Enter value for sunshine (0.0 - 10.0):  5\n",
      "Enter value for winddirection (0 - 360):  321\n",
      "Enter value for windspeed (0.0 - 50.0):  34\n"
     ]
    },
    {
     "name": "stdout",
     "output_type": "stream",
     "text": [
      "Your input is:\n",
      "[1123.0, 23.0, 45.0, 56.0, 5.0, 321.0, 34.0]\n"
     ]
    }
   ],
   "source": [
    "columns = ['pressure', 'dewpoint', 'humidity', 'cloud', 'sunshine',\n",
    "       'winddirection', 'windspeed']\n",
    "\n",
    "ranges = [\n",
    "    ('1015.0 - 1025.0'), \n",
    "    ('15.0 - 25.0'),      \n",
    "    ('0 - 100'),          \n",
    "    ('0 - 100'),          \n",
    "    ('0.0 - 10.0'),       \n",
    "    ('0 - 360'),          \n",
    "    ('0.0 - 50.0')       ]\n",
    "\n",
    "data = []\n",
    "for i in range(len(columns)):\n",
    "    value = float(input(\"Enter value for \" + columns[i] + \" (\" + ranges[i] + \"): \"))\n",
    "    data.append(value)\n",
    "\n",
    "print(\"Your input is:\")\n",
    "print(data)"
   ]
  },
  {
   "cell_type": "code",
   "execution_count": 83,
   "id": "b12d1b6b-2ec9-40c4-be1e-36da4d636474",
   "metadata": {},
   "outputs": [
    {
     "name": "stdout",
     "output_type": "stream",
     "text": [
      "no rainfall\n"
     ]
    },
    {
     "name": "stderr",
     "output_type": "stream",
     "text": [
      "C:\\Users\\iGAP\\anaconda3\\Lib\\site-packages\\sklearn\\base.py:493: UserWarning: X does not have valid feature names, but RandomForestClassifier was fitted with feature names\n",
      "  warnings.warn(\n"
     ]
    }
   ],
   "source": [
    "import pickle as pkl\n",
    "\n",
    "# Load the model data\n",
    "with open(\"rainfall_prediction_model.pkl\", \"rb\") as file:\n",
    "    model_data = pkl.load(file)\n",
    "\n",
    "# Access the model\n",
    "model = model_data[\"model\"]\n",
    "\n",
    "# Make predictions\n",
    "result = model.predict([data])\n",
    "\n",
    "# Convert the prediction to \"rainfall\" or \"no rainfall\"\n",
    "prediction = \"rainfall\" if result[0] == 1 else \"no rainfall\"\n",
    "print(prediction)\n",
    "\n"
   ]
  }
 ],
 "metadata": {
  "kernelspec": {
   "display_name": "Python 3 (ipykernel)",
   "language": "python",
   "name": "python3"
  },
  "language_info": {
   "codemirror_mode": {
    "name": "ipython",
    "version": 3
   },
   "file_extension": ".py",
   "mimetype": "text/x-python",
   "name": "python",
   "nbconvert_exporter": "python",
   "pygments_lexer": "ipython3",
   "version": "3.12.7"
  }
 },
 "nbformat": 4,
 "nbformat_minor": 5
}
